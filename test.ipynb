{
 "cells": [
  {
   "cell_type": "markdown",
   "metadata": {},
   "source": [
    "# URL Testing Notebook\n",
    "\n",
    "This notebook provides an easy way to test individual URLs and view their responses using the Wikipedia Dead Link Finder package."
   ]
  },
  {
   "cell_type": "code",
   "execution_count": 3,
   "metadata": {},
   "outputs": [
    {
     "name": "stdout",
     "output_type": "stream",
     "text": [
      "✅ All modules imported successfully!\n"
     ]
    }
   ],
   "source": [
    "# Import required libraries\n",
    "import sys\n",
    "import requests\n",
    "from urllib.parse import urlparse\n",
    "import pandas as pd\n",
    "from IPython.display import display, HTML\n",
    "\n",
    "# Import the package modules\n",
    "from check_links import (\n",
    "    check_link_status, \n",
    "    check_all_links_with_archives,\n",
    "    is_likely_false_positive,\n",
    "    validate_link_with_secondary_check,\n",
    "    check_with_alternative_methods,\n",
    "    validate_redirect_chain,\n",
    "    print_link_summary\n",
    ")\n",
    "\n",
    "print(\"✅ All modules imported successfully!\")"
   ]
  },
  {
   "cell_type": "markdown",
   "metadata": {},
   "source": [
    "## Test Individual URL Function"
   ]
  },
  {
   "cell_type": "code",
   "execution_count": 4,
   "metadata": {},
   "outputs": [],
   "source": [
    "def test_url(url, timeout=10.0, show_details=True):\n",
    "    \"\"\"\n",
    "    Test a single URL and display detailed results.\n",
    "    \n",
    "    Args:\n",
    "        url: URL to test\n",
    "        timeout: Request timeout in seconds\n",
    "        show_details: Whether to show detailed response information\n",
    "    \"\"\"\n",
    "    print(f\"🔍 Testing URL: {url}\")\n",
    "    print(\"=\" * 80)\n",
    "    \n",
    "    # Step 1: Initial check\n",
    "    print(\"\\n📋 Step 1: Initial Check\")\n",
    "    initial_result = check_link_status(url, timeout)\n",
    "    print(f\"Result: {initial_result}\")\n",
    "    \n",
    "    # Step 2: Check if it's a false positive\n",
    "    print(\"\\n🔍 Step 2: False Positive Check\")\n",
    "    is_fp = is_likely_false_positive(url, initial_result[1], initial_result[2])\n",
    "    print(f\"Is false positive: {is_fp}\")\n",
    "    \n",
    "    # Step 3: Secondary validation if needed\n",
    "    if is_fp:\n",
    "        print(\"\\n🔄 Step 3: Secondary Validation\")\n",
    "        secondary_result = validate_link_with_secondary_check(url, initial_result, timeout)\n",
    "        print(f\"Secondary result: {secondary_result}\")\n",
    "        final_result = secondary_result\n",
    "    else:\n",
    "        final_result = initial_result\n",
    "    \n",
    "    # Step 4: Show detailed response if requested\n",
    "    if show_details:\n",
    "        print(\"\\n📄 Step 4: Detailed Response Analysis\")\n",
    "        show_detailed_response(url, timeout)\n",
    "    \n",
    "    # Step 5: Summary\n",
    "    print(\"\\n📊 Summary\")\n",
    "    print(f\"Final Status: {final_result[1]}\")\n",
    "    print(f\"Status Code: {final_result[2]}\")\n",
    "    \n",
    "    return final_result\n",
    "\n",
    "def show_detailed_response(url, timeout=10.0):\n",
    "    \"\"\"Show detailed response information for debugging.\"\"\"\n",
    "    try:\n",
    "        # Test with different methods\n",
    "        headers = {\n",
    "            'User-Agent': 'Mozilla/5.0 (Macintosh; Intel Mac OS X 10_15_7) AppleWebKit/537.36 (KHTML, like Gecko) Chrome/120.0.0.0 Safari/537.36'\n",
    "        }\n",
    "        \n",
    "        print(\"\\n🔧 Testing with different methods:\")\n",
    "        \n",
    "        # Method 1: Simple HEAD request\n",
    "        try:\n",
    "            response = requests.head(url, timeout=timeout, headers=headers, allow_redirects=True)\n",
    "            print(f\"HEAD request: {response.status_code} -> {response.url}\")\n",
    "        except Exception as e:\n",
    "            print(f\"HEAD request failed: {e}\")\n",
    "        \n",
    "        # Method 2: Simple GET request\n",
    "        try:\n",
    "            response = requests.get(url, timeout=timeout, headers=headers, allow_redirects=True)\n",
    "            print(f\"GET request: {response.status_code} -> {response.url}\")\n",
    "            \n",
    "            # Show response headers\n",
    "            print(f\"\\n📋 Response Headers:\")\n",
    "            for header, value in response.headers.items():\n",
    "                print(f\"  {header}: {value}\")\n",
    "                \n",
    "            # Show first 500 characters of content\n",
    "            if response.text:\n",
    "                print(f\"\\n📄 Content Preview (first 500 chars):\")\n",
    "                print(response.text[:500] + \"...\" if len(response.text) > 500 else response.text)\n",
    "        except Exception as e:\n",
    "            print(f\"GET request failed: {e}\")\n",
    "        \n",
    "        # Method 3: Test alternative methods from the package\n",
    "        print(f\"\\n🔄 Package alternative methods:\")\n",
    "        alt_result = check_with_alternative_methods(url, timeout)\n",
    "        print(f\"Alternative methods result: {alt_result}\")\n",
    "        \n",
    "        # Method 4: Test redirect chain validation\n",
    "        redirect_result = validate_redirect_chain(url, timeout)\n",
    "        print(f\"Redirect chain result: {redirect_result}\")\n",
    "        \n",
    "    except Exception as e:\n",
    "        print(f\"Error in detailed analysis: {e}\")"
   ]
  },
  {
   "cell_type": "markdown",
   "metadata": {},
   "source": [
    "## Test Multiple URLs Function"
   ]
  },
  {
   "cell_type": "code",
   "execution_count": 5,
   "metadata": {},
   "outputs": [],
   "source": [
    "def test_multiple_urls(urls, timeout=10.0, delay=0.1):\n",
    "    \"\"\"\n",
    "    Test multiple URLs and display results in a table.\n",
    "    \n",
    "    Args:\n",
    "        urls: List of URLs to test\n",
    "        timeout: Request timeout in seconds\n",
    "        delay: Delay between requests\n",
    "    \"\"\"\n",
    "    print(f\"🔍 Testing {len(urls)} URLs...\")\n",
    "    print(\"=\" * 80)\n",
    "    \n",
    "    # Use the package's batch checking function\n",
    "    results = check_all_links_with_archives(urls, {}, timeout=timeout, delay=delay)\n",
    "    \n",
    "    # Create a DataFrame for easy viewing\n",
    "    df = pd.DataFrame(results, columns=['URL', 'Status', 'Status Code'])\n",
    "    \n",
    "    # Add a column for false positive check\n",
    "    df['False Positive'] = df.apply(lambda row: is_likely_false_positive(row['URL'], row['Status'], row['Status Code']), axis=1)\n",
    "    \n",
    "    # Display results\n",
    "    print(\"\\n📊 Results:\")\n",
    "    display(df)\n",
    "    \n",
    "    # Show summary\n",
    "    print(\"\\n📈 Summary:\")\n",
    "    status_counts = df['Status'].value_counts()\n",
    "    for status, count in status_counts.items():\n",
    "        print(f\"{status}: {count}\")\n",
    "    \n",
    "    # Show dead links\n",
    "    dead_links = df[df['Status'] == 'dead']\n",
    "    if not dead_links.empty:\n",
    "        print(f\"\\n❌ Dead links found ({len(dead_links)}):\")\n",
    "        for _, row in dead_links.iterrows():\n",
    "            print(f\"  - {row['URL']} (Status: {row['Status Code']})\")\n",
    "    \n",
    "    return df"
   ]
  },
  {
   "cell_type": "markdown",
   "metadata": {},
   "source": [
    "## Example Usage\n",
    "\n",
    "### Test the URLs that were previously missed:"
   ]
  },
  {
   "cell_type": "code",
   "execution_count": 13,
   "metadata": {},
   "outputs": [
    {
     "data": {
      "text/plain": [
       "<Response [200]>"
      ]
     },
     "execution_count": 13,
     "metadata": {},
     "output_type": "execute_result"
    }
   ],
   "source": [
    "requests.get('https://www.blackfilm.com/read/exclusive-malcolm-jamal-warner-talks-tnt-major-crimes/', timeout=10, headers= {\n",
    "            'User-Agent': 'Mozilla/5.0 (Macintosh; Intel Mac OS X 10_15_7) AppleWebKit/537.36 (KHTML, like Gecko) Chrome/120.0.0.0 Safari/537.36'\n",
    "        }, allow_redirects=True)"
   ]
  },
  {
   "cell_type": "code",
   "execution_count": null,
   "metadata": {},
   "outputs": [
    {
     "name": "stdout",
     "output_type": "stream",
     "text": [
      "Testing the URLs that were False Positives:\n",
      "🔍 Testing 1 URLs...\n",
      "================================================================================\n"
     ]
    },
    {
     "name": "stderr",
     "output_type": "stream",
     "text": [
      "Checking links: 100%|██████████| 1/1 [00:07<00:00,  7.19s/link]"
     ]
    },
    {
     "name": "stdout",
     "output_type": "stream",
     "text": [
      "\n",
      "📊 Results:\n"
     ]
    },
    {
     "name": "stderr",
     "output_type": "stream",
     "text": [
      "\n"
     ]
    },
    {
     "data": {
      "text/html": [
       "<div>\n",
       "<style scoped>\n",
       "    .dataframe tbody tr th:only-of-type {\n",
       "        vertical-align: middle;\n",
       "    }\n",
       "\n",
       "    .dataframe tbody tr th {\n",
       "        vertical-align: top;\n",
       "    }\n",
       "\n",
       "    .dataframe thead th {\n",
       "        text-align: right;\n",
       "    }\n",
       "</style>\n",
       "<table border=\"1\" class=\"dataframe\">\n",
       "  <thead>\n",
       "    <tr style=\"text-align: right;\">\n",
       "      <th></th>\n",
       "      <th>URL</th>\n",
       "      <th>Status</th>\n",
       "      <th>Status Code</th>\n",
       "      <th>False Positive</th>\n",
       "    </tr>\n",
       "  </thead>\n",
       "  <tbody>\n",
       "    <tr>\n",
       "      <th>0</th>\n",
       "      <td>https://www.blackfilm.com/read/exclusive-malco...</td>\n",
       "      <td>alive</td>\n",
       "      <td>200</td>\n",
       "      <td>False</td>\n",
       "    </tr>\n",
       "  </tbody>\n",
       "</table>\n",
       "</div>"
      ],
      "text/plain": [
       "                                                 URL Status  Status Code  \\\n",
       "0  https://www.blackfilm.com/read/exclusive-malco...  alive          200   \n",
       "\n",
       "   False Positive  \n",
       "0           False  "
      ]
     },
     "metadata": {},
     "output_type": "display_data"
    },
    {
     "name": "stdout",
     "output_type": "stream",
     "text": [
      "\n",
      "📈 Summary:\n",
      "alive: 1\n"
     ]
    }
   ],
   "source": [
    "# Test the URLs that were previously missed\n",
    "test_urls = [\n",
    "    'https://www.wsj.com/sports/olympics/scottie-scheffler-olympic-golf-jon-rahm-tommy-fleetwood-32d5aabe?mod=hp_major_pos3',\n",
    "    'https://www.skysports.com/golf/news/12176/13105831/houston-open-scottie-schefflers-win-streak-ends-as-stephan-jaeger-lands-first-pga-tour-title',\n",
    "    'https://www.skysports.com/golf/live-blog/14640/12900853/us-open-2023-live-latest-news-and-updates-as-scottie-scheffler-jon-rahm-and-rory-mcilroy-all-feature',\n",
    "    'https://www.skysports.com/golf/news/12176/12594637/zurich-classic-scottie-scheffler-taking-perspective-from-early-struggles-after-masters-win',\n",
    "    'https://www.usatoday.com/story/sports/golf/2022/03/29/column-schefflers-desire-to-compete-takes-him-to-the-top/49997601/',\n",
    "    'https://www.wsj.com/sports/golf/scottie-scheffler-arrested-pga-championship-video-633dab6c',\n",
    "    'https://www.skysports.com/golf/news/12176/13144958/scottie-scheffler-charges-dropped-against-world-no-1-golfer-after-pga-championship-arrest',\n",
    "    'https://www.skysports.com/golf/news/12176/13143779/charles-schwab-challenge-davis-riley-takes-maiden-individual-pga-tour-title-on-sombre-day-at-colonial',\n",
    "    'https://www.netflix.com/tudum/articles/full-swing-release-date-cast-news',\n",
    "    'https://www.skysports.com/golf/news/12176/12945749/fedexcup-scottie-scheffler-viktor-hovland-rory-mcilroy-lead-chase-at-tour-championship-in-pga-tour-finale'\n",
    "]\n",
    "\n",
    "print(\"Testing the URLs that were False Positives:\")\n",
    "results_df = test_multiple_urls(test_urls, timeout=10.0"
   ]
  },
  {
   "cell_type": "markdown",
   "metadata": {},
   "source": [
    "### Test individual URL with detailed analysis:"
   ]
  },
  {
   "cell_type": "code",
   "execution_count": null,
   "metadata": {},
   "outputs": [],
   "source": [
    "# Test a single URL with detailed analysis\n",
    "url_to_test = 'http://tvline.com/2015/05/13/american-crime-story-malcolm-jamal-warner-al-cowlings/'\n",
    "result = test_url(url_to_test, timeout=10.0, show_details=True)"
   ]
  },
  {
   "cell_type": "markdown",
   "metadata": {},
   "source": [
    "### Test with different types of URLs:"
   ]
  },
  {
   "cell_type": "code",
   "execution_count": null,
   "metadata": {},
   "outputs": [],
   "source": [
    "# Test with various types of URLs\n",
    "various_urls = [\n",
    "    'https://httpstat.us/200',  # Working URL\n",
    "    'https://httpstat.us/404',  # Dead URL\n",
    "    'https://httpstat.us/403',  # Forbidden\n",
    "    'https://google.com',       # Live site\n",
    "    'https://nonexistentdomain12345.com',  # DNS failure\n",
    "    'https://www.essence.com/news_entertainment/entertainment/articles/flashback_fridays_malcolm_jamal_warner/',  # Known dead\n",
    "]\n",
    "\n",
    "print(\"Testing various types of URLs:\")\n",
    "results_df = test_multiple_urls(various_urls, timeout=5.0)"
   ]
  },
  {
   "cell_type": "markdown",
   "metadata": {},
   "source": [
    "## Interactive Testing\n",
    "\n",
    "You can now easily test any URL by calling the functions above. For example:\n",
    "\n",
    "```python\n",
    "# Test a single URL\n",
    "test_url('https://example.com', timeout=10.0, show_details=True)\n",
    "\n",
    "# Test multiple URLs\n",
    "urls = ['https://url1.com', 'https://url2.com', 'https://url3.com']\n",
    "test_multiple_urls(urls, timeout=10.0)\n",
    "```"
   ]
  },
  {
   "cell_type": "markdown",
   "metadata": {},
   "source": [
    "## Debugging Functions\n",
    "\n",
    "Additional functions for debugging specific issues:"
   ]
  },
  {
   "cell_type": "code",
   "execution_count": null,
   "metadata": {},
   "outputs": [],
   "source": [
    "def debug_redirect_chain(url, timeout=10.0):\n",
    "    \"\"\"Debug redirect chains for a URL.\"\"\"\n",
    "    print(f\"🔍 Debugging redirect chain for: {url}\")\n",
    "    print(\"=\" * 60)\n",
    "    \n",
    "    try:\n",
    "        session = requests.Session()\n",
    "        session.max_redirects = 10\n",
    "        \n",
    "        # Track redirects\n",
    "        response = session.get(url, timeout=timeout, allow_redirects=True)\n",
    "        \n",
    "        print(f\"Final URL: {response.url}\")\n",
    "        print(f\"Final Status: {response.status_code}\")\n",
    "        print(f\"Number of redirects: {len(response.history)}\")\n",
    "        \n",
    "        if response.history:\n",
    "            print(\"\\n📋 Redirect chain:\")\n",
    "            for i, resp in enumerate(response.history):\n",
    "                print(f\"  {i+1}. {resp.url} -> {resp.status_code}\")\n",
    "        \n",
    "    except Exception as e:\n",
    "        print(f\"Error: {e}\")\n",
    "\n",
    "def debug_false_positive_logic(url, timeout=10.0):\n",
    "    \"\"\"Debug the false positive detection logic.\"\"\"\n",
    "    print(f\"🔍 Debugging false positive logic for: {url}\")\n",
    "    print(\"=\" * 60)\n",
    "    \n",
    "    # Get initial result\n",
    "    result = check_link_status(url, timeout)\n",
    "    print(f\"Initial result: {result}\")\n",
    "    \n",
    "    # Check false positive logic\n",
    "    is_fp = is_likely_false_positive(url, result[1], result[2])\n",
    "    print(f\"Is false positive: {is_fp}\")\n",
    "    \n",
    "    # Show why it's considered a false positive\n",
    "    if result[2] in [301, 302, 303, 307, 308]:\n",
    "        print(\"Reason: Status code indicates redirect\")\n",
    "    else:\n",
    "        print(\"Reason: Status code does not indicate redirect\")\n",
    "    \n",
    "    return result, is_fp"
   ]
  },
  {
   "cell_type": "markdown",
   "metadata": {},
   "source": [
    "### Example debugging usage:"
   ]
  },
  {
   "cell_type": "code",
   "execution_count": null,
   "metadata": {},
   "outputs": [],
   "source": [
    "# Debug redirect chain\n",
    "debug_redirect_chain('http://tvline.com/2015/05/13/american-crime-story-malcolm-jamal-warner-al-cowlings/')\n",
    "\n",
    "print(\"\\n\" + \"=\"*80 + \"\\n\")\n",
    "\n",
    "# Debug false positive logic\n",
    "debug_false_positive_logic('http://tvline.com/2015/05/13/american-crime-story-malcolm-jamal-warner-al-cowlings/')"
   ]
  }
 ],
 "metadata": {
  "kernelspec": {
   "display_name": "venv",
   "language": "python",
   "name": "python3"
  },
  "language_info": {
   "codemirror_mode": {
    "name": "ipython",
    "version": 3
   },
   "file_extension": ".py",
   "mimetype": "text/x-python",
   "name": "python",
   "nbconvert_exporter": "python",
   "pygments_lexer": "ipython3",
   "version": "3.13.5"
  }
 },
 "nbformat": 4,
 "nbformat_minor": 4
}
